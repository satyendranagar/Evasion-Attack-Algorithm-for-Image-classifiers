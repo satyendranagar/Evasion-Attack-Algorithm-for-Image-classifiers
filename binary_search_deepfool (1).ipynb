{
  "cells": [
    {
      "cell_type": "code",
      "execution_count": null,
      "metadata": {
        "id": "LmV1Zj_DxWG0"
      },
      "outputs": [],
      "source": [
        "import torch\n",
        "from torch.autograd import Variable\n",
        "import numpy as np\n",
        "import copy\n",
        "import torch.nn as nn\n",
        "import torch.nn.functional as F\n",
        "import torchvision\n",
        "import torchvision.transforms as transforms\n",
        "import matplotlib.pyplot as plt\n",
        "import torch.optim as optim\n",
        "import torch.utils.data as data_utils\n",
        "import math\n",
        "import torchvision.models as models\n",
        "from PIL import Image\n",
        "import os"
      ]
    },
    {
      "cell_type": "code",
      "execution_count": null,
      "metadata": {
        "id": "OkPBTolaxwLK"
      },
      "outputs": [],
      "source": [
        "def iter_gradients(x):\n",
        "    if isinstance(x, Variable):\n",
        "        if x.requires_grad:\n",
        "            yield x.grad.data\n",
        "    else:\n",
        "        for elem in x:\n",
        "            for result in iter_gradients(elem):\n",
        "                yield result"
      ]
    },
    {
      "cell_type": "code",
      "execution_count": null,
      "metadata": {
        "id": "1hJsdzGfxwYy"
      },
      "outputs": [],
      "source": [
        "def zero_gradients(i):\n",
        "    for t in iter_gradients(i):\n",
        "        t.zero_()"
      ]
    },
    {
      "cell_type": "code",
      "execution_count": null,
      "metadata": {
        "id": "0gTAYFviBZcV"
      },
      "outputs": [],
      "source": [
        "!mkdir -p ~/.kaggle\n",
        "!cp kaggle.json ~/.kaggle/"
      ]
    },
    {
      "cell_type": "code",
      "execution_count": null,
      "metadata": {
        "colab": {
          "base_uri": "https://localhost:8080/"
        },
        "id": "Dnh9JZxnCEYk",
        "outputId": "da3c0676-16cf-4ae8-e0ae-90a34e193ee8"
      },
      "outputs": [
        {
          "output_type": "stream",
          "name": "stdout",
          "text": [
            "Warning: Your Kaggle API key is readable by other users on this system! To fix this, you can run 'chmod 600 /root/.kaggle/kaggle.json'\n",
            "Downloading imagenet.zip to /content\n",
            "100% 6.21G/6.21G [04:50<00:00, 25.1MB/s]\n",
            "100% 6.21G/6.21G [04:50<00:00, 23.0MB/s]\n"
          ]
        }
      ],
      "source": [
        "!kaggle datasets download -d lijiyu/imagenet"
      ]
    },
    {
      "cell_type": "code",
      "execution_count": null,
      "metadata": {
        "id": "f-J5BRboCHqN"
      },
      "outputs": [],
      "source": [
        "import zipfile\n",
        "zip_ref = zipfile.ZipFile('/content/imagenet.zip', 'r')\n",
        "zip_ref.extractall('/content')\n",
        "zip_ref.close()"
      ]
    },
    {
      "cell_type": "code",
      "execution_count": null,
      "metadata": {
        "id": "3V_bSwMGxZ3i"
      },
      "outputs": [],
      "source": [
        "def mydeepfool(image, net, num_classes=10, overshoot=0.02, max_iter=50):\n",
        "\n",
        "    \"\"\"\n",
        "       :param image: Image of size HxWx3\n",
        "       :param net: network (input: images, output: values of activation **BEFORE** softmax).\n",
        "       :param num_classes: num_classes (limits the number of classes to test against, by default = 10)\n",
        "       :param overshoot: used as a termination criterion to prevent vanishing updates (default = 0.02).\n",
        "       :param max_iter: maximum number of iterations for deepfool (default = 50)\n",
        "       :return: minimal perturbation that fools the classifier, number of iterations that it required, new estimated_label and perturbed image\n",
        "    \"\"\"\n",
        "    is_cuda = torch.cuda.is_available()\n",
        "\n",
        "    if is_cuda:\n",
        "        # print(\"Using GPU\")\n",
        "        image = image.cuda()\n",
        "        net = net.cuda()\n",
        "\n",
        "\n",
        "    f_image = net.forward(Variable(image[None, :, :, :], requires_grad=True)).data.cpu().numpy().flatten()\n",
        "    I = (np.array(f_image)).flatten().argsort()[::-1]\n",
        "\n",
        "    I = I[0:num_classes]\n",
        "    label = I[0]\n",
        "\n",
        "    input_shape = image.cpu().numpy().shape\n",
        "    pert_image = copy.deepcopy(image)\n",
        "    w = np.zeros(input_shape)\n",
        "    r_tot = np.zeros(input_shape)\n",
        "\n",
        "    x = Variable(pert_image[None, :], requires_grad=True)\n",
        "    fs = net.forward(x)\n",
        "    fs_list = [fs[0,I[k]] for k in range(num_classes)]\n",
        "    k_i = label\n",
        "\n",
        "    # print(num_classes)\n",
        "\n",
        "    pert = np.inf\n",
        "    fs[0, I[0]].backward(retain_graph=True)\n",
        "\n",
        "    grad_orig = x.grad.data.cpu().numpy().copy()\n",
        "\n",
        "    for k in range(1, num_classes):\n",
        "        zero_gradients(x)\n",
        "\n",
        "        fs[0, I[k]].backward(retain_graph=True)\n",
        "        cur_grad = x.grad.data.cpu().numpy().copy()\n",
        "\n",
        "        # set new w_k and new f_k\n",
        "        w_k = cur_grad - grad_orig\n",
        "        f_k = (fs[0, I[k]] - fs[0, I[0]]).data.cpu().numpy()\n",
        "\n",
        "        pert_k = abs(f_k)/np.linalg.norm(w_k.flatten())\n",
        "\n",
        "        # determine which w_k to use\n",
        "        if pert_k < pert:\n",
        "            pert = pert_k\n",
        "            w = w_k\n",
        "\n",
        "    # compute r_i and r_tot\n",
        "    # Added 1e-4 for numerical stability\n",
        "    loop_i = 0\n",
        "    l = 1\n",
        "    r = max_iter\n",
        "    ans = 0\n",
        "    while l<=r:\n",
        "        mid = int((l+r)/2)\n",
        "        r_i =  (pert+1e-4) * w / np.linalg.norm(w)\n",
        "        r_tot = np.float32(mid*r_i)\n",
        "        if is_cuda:\n",
        "            pert_image = image + (1+overshoot)*torch.from_numpy(r_tot).cuda()\n",
        "        else:\n",
        "            pert_image = image + (1+overshoot)*torch.from_numpy(r_tot)\n",
        "\n",
        "        y = Variable(pert_image, requires_grad=True)\n",
        "        fs = net.forward(y)\n",
        "        k_i = np.argmax(fs.data.cpu().numpy().flatten())\n",
        "        loop_i += 1\n",
        "        if k_i == label:\n",
        "          l = mid + 1\n",
        "        else:\n",
        "          r = mid - 1\n",
        "          ans = mid\n",
        "\n",
        "\n",
        "    r_tot = np.float32(ans*r_i)\n",
        "    r_tot = (1+overshoot)*r_tot\n",
        "\n",
        "    if is_cuda:\n",
        "        pert_image = image + (1+overshoot)*torch.from_numpy(r_tot).cuda()\n",
        "    else:\n",
        "        pert_image = image + (1+overshoot)*torch.from_numpy(r_tot)\n",
        "    y = Variable(pert_image, requires_grad=True)\n",
        "    fs = net.forward(y)\n",
        "    k_i = np.argmax(fs.data.cpu().numpy().flatten())\n",
        "\n",
        "    return r_tot,loop_i, ans, label, k_i, pert_image"
      ]
    },
    {
      "cell_type": "code",
      "execution_count": null,
      "metadata": {
        "id": "9f4RZLtpVhKx"
      },
      "outputs": [],
      "source": [
        "def deepfool_batch(net, images, num_classes=1000, overshoot=0.02, max_iter=50, batch_size=64):\n",
        "    \"\"\"\n",
        "       :param images: a batch of images of size NxHxWx3\n",
        "       :param net: network (input: images, output: values of activation **BEFORE** softmax).\n",
        "       :param num_classes: num_classes (limits the number of classes to test against, by default = 10)\n",
        "       :param overshoot: used as a termination criterion to prevent vanishing updates (default = 0.02).\n",
        "       :param max_iter: maximum number of iterations for deepfool (default = 50)\n",
        "       :return: minimal perturbation for each image, number of iterations that it required, original labels and new labels, and perturbed images\n",
        "    \"\"\"\n",
        "    results = []\n",
        "    count = 0\n",
        "    total = 0\n",
        "\n",
        "    for i in range(0, len(images), batch_size):\n",
        "        print(i)\n",
        "        batch = images[i:i + batch_size]\n",
        "\n",
        "        is_cuda = torch.cuda.is_available()\n",
        "        if is_cuda:\n",
        "            # print(\"Using GPU\")\n",
        "            batch = batch.cuda()\n",
        "            net = net.cuda()\n",
        "        # else:\n",
        "        #     print(\"Using CPU\")\n",
        "\n",
        "        batch_results = []\n",
        "        for image in batch:\n",
        "            # Apply deepfool to each image in the batch\n",
        "            r_tot, iter, orig_label, new_label, pert_image = deepfool(image, net, num_classes, overshoot, max_iter)\n",
        "            total += 1\n",
        "            batch_results.append((r_tot, iter, orig_label, new_label, pert_image))\n",
        "            if(orig_label != new_label):\n",
        "              count += 1\n",
        "        results.extend(batch_results)\n",
        "    return results,count,total\n"
      ]
    },
    {
      "cell_type": "code",
      "execution_count": null,
      "metadata": {
        "id": "bvWXfVxReOQL"
      },
      "outputs": [],
      "source": [
        "import torch\n",
        "from torchvision import datasets, transforms\n",
        "mean = [ 0.485, 0.456, 0.406 ]\n",
        "std = [ 0.229, 0.224, 0.225 ]\n",
        "transform = transforms.Compose([\n",
        "    transforms.Resize(256),\n",
        "    transforms.CenterCrop(224),\n",
        "    transforms.ToTensor(),\n",
        "    transforms.Normalize(mean = mean,\n",
        "                         std = std)])\n",
        "dataset = datasets.ImageFolder('/content/imagenet', transform = transform)"
      ]
    },
    {
      "cell_type": "code",
      "execution_count": null,
      "metadata": {
        "id": "yyZ4iT_weXkp"
      },
      "outputs": [],
      "source": [
        "dataloader = torch.utils.data.DataLoader(dataset, batch_size=320, shuffle=True)"
      ]
    },
    {
      "cell_type": "code",
      "execution_count": null,
      "metadata": {
        "id": "-Aadf0EXeawB"
      },
      "outputs": [],
      "source": [
        "# Looping through it, get a batch on each loop\n",
        "for images, labels in dataloader:\n",
        "    pass"
      ]
    },
    {
      "cell_type": "code",
      "execution_count": null,
      "metadata": {
        "id": "YXeA9V5KQOQR",
        "colab": {
          "base_uri": "https://localhost:8080/"
        },
        "outputId": "4ca2ddfb-7065-4f39-d865-ea2205bdc9b0"
      },
      "outputs": [
        {
          "output_type": "execute_result",
          "data": {
            "text/plain": [
              "torch.Size([320, 3, 224, 224])"
            ]
          },
          "metadata": {},
          "execution_count": 13
        }
      ],
      "source": [
        "images, labels = next(iter(dataloader))\n",
        "# images = images[0:320]\n",
        "images.size()"
      ]
    },
    {
      "cell_type": "code",
      "execution_count": null,
      "metadata": {
        "id": "CMp1qnDxQx_B",
        "colab": {
          "base_uri": "https://localhost:8080/"
        },
        "outputId": "dc0354f3-7fa6-4f6d-cce0-f7050231934c"
      },
      "outputs": [
        {
          "output_type": "stream",
          "name": "stdout",
          "text": [
            "0\n",
            "64\n",
            "128\n",
            "192\n",
            "256\n",
            "results =  310\n",
            "total =  320\n"
          ]
        }
      ],
      "source": [
        "net = models.resnet34(pretrained=True)\n",
        "net.eval()\n",
        "results, count, total = deepfool_batch(net,images)  # 49 min\n",
        "print(\"results = \",count) #310\n",
        "print(\"total = \", total)  #320"
      ]
    },
    {
      "cell_type": "code",
      "source": [
        "total_iter = 0\n",
        "\n",
        "for i in range(320):\n",
        "    total_iter += results[i][1]\n",
        "\n",
        "print(\"total iteration = \", total_iter) # 1868"
      ],
      "metadata": {
        "id": "LJqi4FBcZtiQ",
        "colab": {
          "base_uri": "https://localhost:8080/"
        },
        "outputId": "2d431b10-70d4-488c-fda0-a4e9bbe3a4b8"
      },
      "execution_count": null,
      "outputs": [
        {
          "output_type": "stream",
          "name": "stdout",
          "text": [
            "total iteration =  1868\n"
          ]
        }
      ]
    },
    {
      "cell_type": "code",
      "source": [
        "results, count, total = deepfool_batch(net,images)  # 2hrs 10 min"
      ],
      "metadata": {
        "colab": {
          "base_uri": "https://localhost:8080/"
        },
        "id": "DZKz3cBa1yTz",
        "outputId": "0ad4fd56-ac8d-42fe-fafb-e5ec50454ef0"
      },
      "execution_count": null,
      "outputs": [
        {
          "output_type": "stream",
          "name": "stdout",
          "text": [
            "0\n",
            "64\n",
            "128\n",
            "192\n",
            "256\n"
          ]
        }
      ]
    },
    {
      "cell_type": "code",
      "source": [
        "print(\"results = \",count)\n",
        "print(\"total = \", total)"
      ],
      "metadata": {
        "colab": {
          "base_uri": "https://localhost:8080/"
        },
        "id": "XzHiw33i3Aif",
        "outputId": "94a6e71b-3055-405c-98a5-901ed9f53b5b"
      },
      "execution_count": null,
      "outputs": [
        {
          "output_type": "stream",
          "name": "stdout",
          "text": [
            "results =  320\n",
            "total =  320\n"
          ]
        }
      ]
    },
    {
      "cell_type": "code",
      "source": [
        "total_iter = 0\n",
        "\n",
        "for i in range(320):\n",
        "    total_iter += results[i][1]\n",
        "\n",
        "print(\"total iteration = \", total_iter) # 836"
      ],
      "metadata": {
        "colab": {
          "base_uri": "https://localhost:8080/"
        },
        "id": "kXBz6Cl7VNth",
        "outputId": "d5d621c9-9d5c-4eb5-839b-c1ff4c8576f8"
      },
      "execution_count": null,
      "outputs": [
        {
          "output_type": "stream",
          "name": "stdout",
          "text": [
            "total iteration =  836\n"
          ]
        }
      ]
    },
    {
      "cell_type": "code",
      "source": [],
      "metadata": {
        "id": "n8t178uoWXKk"
      },
      "execution_count": null,
      "outputs": []
    }
  ],
  "metadata": {
    "accelerator": "GPU",
    "colab": {
      "provenance": []
    },
    "gpuClass": "standard",
    "kernelspec": {
      "display_name": "Python 3",
      "name": "python3"
    },
    "language_info": {
      "name": "python"
    }
  },
  "nbformat": 4,
  "nbformat_minor": 0
}